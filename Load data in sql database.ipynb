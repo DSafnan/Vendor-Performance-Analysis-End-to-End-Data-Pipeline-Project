{
 "cells": [
  {
   "cell_type": "code",
   "execution_count": 34,
   "id": "1cc11dca-52e5-4987-a22e-aa5709aba6f2",
   "metadata": {},
   "outputs": [],
   "source": [
    "import pandas as pd \n",
    "import os \n",
    "from sqlalchemy import create_engine\n",
    "import logging\n",
    "import time\n",
    "\n",
    "# Setup logging\n",
    "logging.basicConfig(\n",
    "    filename=\"logs/ingestion_db.log\",\n",
    "    level=logging.DEBUG,\n",
    "    format=\"%(asctime)s - %(levelname)s - %(message)s\",\n",
    "    filemode=\"a\"\n",
    ")\n",
    "\n",
    "# Create SQLite engine\n",
    "engine = create_engine('sqlite:///inventory.db')\n",
    "\n",
    "def ingest_db(df, table_name, engine):\n",
    "    '''This function will ingest the dataframe into the database table.'''\n",
    "    df.to_sql(table_name, con=engine, if_exists='replace', index=False)\n",
    "    \n",
    "def load_raw_data():\n",
    "    '''This function loads CSVs as dataframes and ingests them into the DB.'''\n",
    "    start = time.time()\n",
    "    \n",
    "    for file in os.listdir('Data'):\n",
    "        if file.endswith('.csv'):\n",
    "            df = pd.read_csv(os.path.join('Data', file)) \n",
    "            logging.info(f'Ingesting {file} into the database.')\n",
    "            ingest_db(df, file[:-4], engine)\n",
    "    \n",
    "    end = time.time()\n",
    "    total_time = (end - start) / 60\n",
    "    logging.info('------------Ingestion Complete------------')\n",
    "    logging.info(f'Total time taken: {total_time:.2f} minutes')\n",
    "\n",
    "# Proper entry point\n",
    "if __name__ == '__main__':\n",
    "    load_raw_data()\n"
   ]
  }
 ],
 "metadata": {
  "kernelspec": {
   "display_name": "Python [conda env:base] *",
   "language": "python",
   "name": "conda-base-py"
  },
  "language_info": {
   "codemirror_mode": {
    "name": "ipython",
    "version": 3
   },
   "file_extension": ".py",
   "mimetype": "text/x-python",
   "name": "python",
   "nbconvert_exporter": "python",
   "pygments_lexer": "ipython3",
   "version": "3.12.7"
  }
 },
 "nbformat": 4,
 "nbformat_minor": 5
}
